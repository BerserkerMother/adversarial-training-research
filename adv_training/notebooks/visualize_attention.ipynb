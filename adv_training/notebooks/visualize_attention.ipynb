{
  "nbformat": 4,
  "nbformat_minor": 5,
  "metadata": {
    "kernelspec": {
      "display_name": "Python 3",
      "language": "python",
      "name": "python3"
    },
    "language_info": {
      "codemirror_mode": {
        "name": "ipython",
        "version": 3
      },
      "file_extension": ".py",
      "mimetype": "text/x-python",
      "name": "python",
      "nbconvert_exporter": "python",
      "pygments_lexer": "ipython3",
      "version": "3.6.12"
    },
    "colab": {
      "name": "visualize_attention.ipynb",
      "provenance": [],
      "collapsed_sections": []
    }
  },
  "cells": [
    {
      "cell_type": "code",
      "metadata": {
        "id": "altered-county"
      },
      "source": [
        "import typing\n",
        "import io\n",
        "import os\n",
        "\n",
        "import torch\n",
        "import numpy as np\n",
        "import cv2\n",
        "import matplotlib.pyplot as plt\n",
        "\n",
        "from PIL import Image\n",
        "from torchvision import transforms\n",
        "from torchvision import datasets\n",
        "from torchvision.utils import make_grid"
      ],
      "id": "altered-county",
      "execution_count": 64,
      "outputs": []
    },
    {
      "cell_type": "code",
      "metadata": {
        "colab": {
          "base_uri": "https://localhost:8080/"
        },
        "id": "b73Ic6mIIpXY",
        "outputId": "54ccefa9-80c6-4a62-c928-761830209f59"
      },
      "source": [
        "from google.colab import drive\n",
        "drive.mount('/content/drive')"
      ],
      "id": "b73Ic6mIIpXY",
      "execution_count": 28,
      "outputs": [
        {
          "output_type": "stream",
          "text": [
            "Drive already mounted at /content/drive; to attempt to forcibly remount, call drive.mount(\"/content/drive\", force_remount=True).\n"
          ],
          "name": "stdout"
        }
      ]
    },
    {
      "cell_type": "code",
      "metadata": {
        "id": "hITDGRFh4PKh"
      },
      "source": [
        "import torch\n",
        "import torch.nn as nn\n",
        "import torch.nn.functional as F\n",
        "from torch import Tensor\n",
        "\n",
        "import math\n",
        "from copy import deepcopy\n",
        "\n",
        "device = torch.device('cuda:0' if torch.cuda.is_available() else 'cpu')\n",
        "\n",
        "\n",
        "class TransformerEncoder(nn.Module):\n",
        "    def __init__(self, image_size: int = 36, hidden_size: int = 768,\n",
        "                 num_head: int = 12, attention_size: int = 768,\n",
        "                 num_mlp_layers: int = 2, num_encoder_layers: int = 12,\n",
        "                 dropout: float = .2, num_classes: int = 10, div_term: int = 3):\n",
        "        super(TransformerEncoder, self).__init__()\n",
        "        self.model_name = \"ViT AKA image transformer\"\n",
        "\n",
        "        self.image_size = image_size\n",
        "        self.hidden_size = hidden_size\n",
        "        self.num_head = num_head\n",
        "        self.attention_size = attention_size\n",
        "        self.dropout = dropout\n",
        "        self.num_mlp_layers = num_mlp_layers\n",
        "        self.num_encoder_layers = num_encoder_layers\n",
        "        self.num_classes = num_classes\n",
        "\n",
        "        # list to store attention weights for visualizing purposes\n",
        "        self.attn_weights = []\n",
        "\n",
        "        # check to see if we can break image to N tiles\n",
        "        self.N = int(math.pow(div_term, 2))  # N aka number of tiles\n",
        "        assert image_size % self.N == 0\n",
        "        self.num_input_features = int(math.pow(image_size / div_term, 2)) * 3\n",
        "\n",
        "        # Define embedding linear projection\n",
        "        self.embedding = nn.Linear(self.num_input_features, hidden_size)\n",
        "        # Define learnable positional embeddings of size (N+1), hidden_size\n",
        "        self.pos_embedding = nn.Parameter(torch.zeros((1, self.N + 1, hidden_size)))\n",
        "        # define class learnable class token\n",
        "        self.cls_token = nn.Parameter(torch.zeros((1, 1, hidden_size)))\n",
        "\n",
        "        # define encoder layers\n",
        "        layer = TransformerEncoderLayer(input_size=self.num_input_features, hidden_size=hidden_size,\n",
        "                                        num_head=num_head, attention_size=attention_size,\n",
        "                                        num_mlp_layers=num_mlp_layers, N=self.N, dropout=dropout,\n",
        "                                        attn_weights=self.attn_weights).to(device)\n",
        "\n",
        "        encoder_layers = []\n",
        "        for _ in range(num_encoder_layers):\n",
        "            encoder_layers.append(deepcopy(layer))\n",
        "\n",
        "        self.encoder_layers = nn.Sequential(*encoder_layers)\n",
        "\n",
        "        # define final MLP head for classification\n",
        "        self.mlp = MLP(hidden_size=hidden_size, num_layers=num_mlp_layers, out_size=num_classes, dropout=dropout).to(\n",
        "            device)\n",
        "\n",
        "    def forward(self, x):\n",
        "        \"\"\"\n",
        "\n",
        "        :param x: image tensor of size (B, C, H, W)\n",
        "        :return: prediction for each class of size (B, num_classes) & attention weights of all layers\n",
        "        \"\"\"\n",
        "\n",
        "        B = x.size(0)\n",
        "        x = x.view(B, self.N, -1)\n",
        "        cls_token = self.cls_token.expand(B, 1, self.hidden_size)\n",
        "\n",
        "        # apply embedding to image\n",
        "        x = self.embedding(x)\n",
        "        # cat class token\n",
        "        x = torch.cat([cls_token, x], dim=1)\n",
        "        # apply positional embedding\n",
        "        x = x + self.pos_embedding\n",
        "\n",
        "        attn_weights = []\n",
        "        for layer in self.encoder_layers:\n",
        "            x = layer(x, attn_weights)\n",
        "\n",
        "        x = self.mlp(x[0])\n",
        "        # we only going to need class token output\n",
        "        x = x[:, 1, :]  # x is of size (B, 1, num_classes)\n",
        "\n",
        "        return x.view(B, -1), attn_weights\n",
        "\n",
        "\n",
        "class TransformerEncoderLayer(nn.Module):\n",
        "    def __init__(self, input_size: int = 363, hidden_size: int = 768,\n",
        "                 num_head: int = 12, attention_size: int = 768,\n",
        "                 num_mlp_layers: int = 2, N: int = 9, dropout: float = .2,\n",
        "                 attn_weights: list = []):\n",
        "        super(TransformerEncoderLayer, self).__init__()\n",
        "\n",
        "        self.input_size = input_size\n",
        "        self.hidden_size = hidden_size\n",
        "        self.num_head = num_head\n",
        "        self.attention_size = attention_size\n",
        "        self.dropout = dropout\n",
        "        self.num_mlp_layers = num_mlp_layers\n",
        "        self.N = N\n",
        "        self.attn_weights = attn_weights  # to store attention weight across layers\n",
        "\n",
        "        self.multi_head_attention = Multi_Head_Attention(hidden_size=hidden_size, num_head=num_head,\n",
        "                                                         attention_size=hidden_size, dropout=dropout).to(device)\n",
        "        self.mlp = MLP(hidden_size=hidden_size, num_layers=num_mlp_layers, out_size=hidden_size, dropout=dropout).to(\n",
        "            device)\n",
        "\n",
        "        self.norm1 = nn.LayerNorm(hidden_size, eps=1e-6)\n",
        "        self.norm2 = nn.LayerNorm(hidden_size, eps=1e-6)\n",
        "\n",
        "    def forward(self, x, attn_weights=None):\n",
        "        \"\"\"\n",
        "\n",
        "        :param x: tuple of encoder layer input of size (B, N, hidden_size) & list of attention weights\n",
        "        :return:\n",
        "        \"\"\"\n",
        "        if len(attn_weights) != 0:\n",
        "            x, attn_weights = x\n",
        "\n",
        "        # attention part\n",
        "        x1 = x\n",
        "        x1 = self.norm1(x1)\n",
        "        x1, weights = self.multi_head_attention(x1)\n",
        "        x = x + x1\n",
        "\n",
        "        # mlp part\n",
        "        x1 = x\n",
        "        x1 = self.norm2(x1)\n",
        "        x1 = self.mlp(x1)\n",
        "        x = x + x1\n",
        "\n",
        "        attn_weights.append(weights.cpu())\n",
        "        return x, attn_weights\n",
        "\n",
        "\n",
        "class Multi_Head_Attention(nn.Module):\n",
        "    def __init__(self, hidden_size: int, num_head: int, attention_size: int, dropout: float):\n",
        "        super(Multi_Head_Attention, self).__init__()\n",
        "        # check if number if hidden size can be divided number of heads\n",
        "        assert attention_size % num_head == 0\n",
        "\n",
        "        self.hidden_size = hidden_size\n",
        "        self.attention_size = attention_size\n",
        "        self.num_head = num_head\n",
        "\n",
        "        # define Q K V linear\n",
        "        self.Q = nn.Linear(hidden_size, hidden_size)\n",
        "        self.K = nn.Linear(hidden_size, hidden_size)\n",
        "        self.V = nn.Linear(hidden_size, hidden_size)\n",
        "\n",
        "        self.linear_projection = nn.Linear(hidden_size, hidden_size)\n",
        "\n",
        "        self.attention_dropout = nn.Dropout(p=dropout)\n",
        "        self.projection_dropout = nn.Dropout(p=dropout)\n",
        "\n",
        "        self.init_weights()\n",
        "\n",
        "    def forward(self, x: Tensor):\n",
        "        \"\"\"\n",
        "\n",
        "        :param x: image batch of size (B, N, hidden_size)\n",
        "        :return: output of multi-head attention and attention weights\n",
        "        \"\"\"\n",
        "        B, N = x.size()[:2]\n",
        "\n",
        "        # covert inputs to desired shape\n",
        "        q = self.Q(x)\n",
        "        k = self.K(x)\n",
        "        v = self.V(x)\n",
        "\n",
        "        # reshape q, k and v into multi head shape (B, N, num_heads, rest) then permute dim 1&2\n",
        "\n",
        "        q = q.view(B, N, self.num_head, -1).permute(0, 2, 1, 3)\n",
        "        k = k.view(B, N, self.num_head, -1).permute(0, 2, 1, 3)\n",
        "        v = v.view(B, N, self.num_head, -1).permute(0, 2, 1, 3)\n",
        "\n",
        "        weights = torch.matmul(q, k.transpose(2, 3)) / math.sqrt(self.attention_size)\n",
        "        weights = F.softmax(weights, dim=-1)\n",
        "        weights = self.attention_dropout(weights)\n",
        "\n",
        "        # calculate new outputs\n",
        "        new_values = torch.matmul(weights, v)\n",
        "\n",
        "        # reshape to original size\n",
        "        new_values = new_values.permute(0, 2, 1, 3).contiguous().view(B, N, -1)\n",
        "\n",
        "        output = self.projection_dropout(self.linear_projection(new_values))\n",
        "\n",
        "        return output, weights\n",
        "\n",
        "    def init_weights(self):\n",
        "        nn.init.xavier_uniform_(self.Q.weight)\n",
        "        nn.init.xavier_uniform_(self.K.weight)\n",
        "        nn.init.xavier_uniform_(self.V.weight)\n",
        "        nn.init.xavier_uniform_(self.linear_projection.weight)\n",
        "\n",
        "        nn.init.normal_(self.Q.bias, std=1e-6)\n",
        "        nn.init.normal_(self.K.bias, std=1e-6)\n",
        "        nn.init.normal_(self.V.bias, std=1e-6)\n",
        "        nn.init.normal_(self.linear_projection.bias, std=1e-6)\n",
        "\n",
        "\n",
        "class MLP(nn.Module):\n",
        "    def __init__(self, hidden_size: int, out_size: int, num_layers: int, dropout: float):\n",
        "        super(MLP, self).__init__()\n",
        "\n",
        "        fc_layers = []\n",
        "        self.num_layers = num_layers\n",
        "\n",
        "        for _ in range(num_layers - 1):\n",
        "            fc_layers.append(nn.Linear(hidden_size, hidden_size).to(device))\n",
        "            fc_layers.append(nn.GELU())\n",
        "            fc_layers.append(nn.Dropout(p=dropout))\n",
        "\n",
        "        self.fc_layers = nn.Sequential(*fc_layers)\n",
        "\n",
        "        self.fc_last = nn.Linear(hidden_size, out_size)\n",
        "        self.drop_last = nn.Dropout(p=dropout)\n",
        "\n",
        "        self.init_weights()\n",
        "\n",
        "    def init_weights(self):\n",
        "        for module in self.fc_layers.modules():\n",
        "            if isinstance(module, nn.Linear):\n",
        "                nn.init.xavier_uniform_(module.weight)\n",
        "                nn.init.normal_(module.bias, std=1e-6)\n",
        "\n",
        "        nn.init.xavier_uniform_(self.fc_last.weight)\n",
        "        nn.init.normal_(self.fc_last.bias, std=1e-6)\n",
        "\n",
        "    def forward(self, x: Tensor):\n",
        "        \"\"\"\n",
        "\n",
        "        :param x: output of multi-head attention of size (B, N, hidden_size)\n",
        "        :return:\n",
        "        \"\"\"\n",
        "\n",
        "        x = self.fc_layers(x)\n",
        "        x = self.fc_last(x)\n",
        "        x = self.drop_last(x)\n",
        "        return x\n"
      ],
      "id": "hITDGRFh4PKh",
      "execution_count": 29,
      "outputs": []
    },
    {
      "cell_type": "code",
      "metadata": {
        "colab": {
          "base_uri": "https://localhost:8080/"
        },
        "id": "improved-trace",
        "outputId": "2bf5da17-7fbb-458c-b7dd-116b5a59d9bb"
      },
      "source": [
        "# define model and load state_dcit\n",
        "model = TransformerEncoder()\n",
        "\n",
        "checkpoint = torch.load('/content/drive/MyDrive/checkpoint.pth', map_location='cpu')\n",
        "state_dict = checkpoint['state_dict']\n",
        "\n",
        "model.load_state_dict(state_dict)\n",
        "model.eval()\n",
        "\n",
        "# define data\n",
        "T = [\n",
        "    transforms.Resize(36),\n",
        "    transforms.ToTensor(),\n",
        "]\n",
        "\n",
        "data = datasets.CIFAR10(root='./cifar-10', train=True, download=True, transform=transforms.Compose(T))\n",
        "\n",
        "x = data[5000][0]\n",
        "im = transforms.ToPILImage()(x)\n",
        "\n",
        "x = transforms.Normalize((0.4914, 0.4822, 0.4465), (0.247, 0.243, 0.261))(x)\n"
      ],
      "id": "improved-trace",
      "execution_count": 90,
      "outputs": [
        {
          "output_type": "stream",
          "text": [
            "Files already downloaded and verified\n"
          ],
          "name": "stdout"
        }
      ]
    },
    {
      "cell_type": "code",
      "metadata": {
        "colab": {
          "base_uri": "https://localhost:8080/",
          "height": 53
        },
        "id": "T2RJawS11e1Y",
        "outputId": "f9cb30fd-d6cd-402e-95e2-fa7d73ffd3fb"
      },
      "source": [
        "display(im)"
      ],
      "id": "T2RJawS11e1Y",
      "execution_count": 91,
      "outputs": [
        {
          "output_type": "display_data",
          "data": {
            "image/png": "[encoded data removed]",
            "text/plain": [
              "<PIL.Image.Image image mode=RGB size=36x36 at 0x7FF91B95F890>"
            ]
          },
          "metadata": {
            "tags": []
          }
        }
      ]
    },
    {
      "cell_type": "code",
      "metadata": {
        "id": "referenced-conditioning"
      },
      "source": [
        "logits, att_mat = model(x.unsqueeze(0))\n",
        "\n",
        "att_mat = torch.stack(att_mat).squeeze(1)\n",
        "\n",
        "# Average the attention weights across all heads.\n",
        "att_mat = torch.mean(att_mat, dim=1)\n",
        "\n",
        "# To account for residual connections, we add an identity matrix to the\n",
        "# attention matrix and re-normalize the weights.\n",
        "residual_att = torch.eye(att_mat.size(1))\n",
        "aug_att_mat = att_mat + residual_att\n",
        "aug_att_mat = aug_att_mat / aug_att_mat.sum(dim=-1).unsqueeze(-1)\n",
        "\n",
        "# Recursively multiply the weight matrices\n",
        "joint_attentions = torch.zeros(aug_att_mat.size())\n",
        "joint_attentions[0] = aug_att_mat[0]\n",
        "\n",
        "for n in range(1, aug_att_mat.size(0)):\n",
        "    joint_attentions[n] = torch.matmul(aug_att_mat[n], joint_attentions[n-1])\n",
        "    \n",
        "# Attention from the output token to the input space.\n",
        "v = joint_attentions[-1]\n",
        "grid_size = int(np.sqrt(aug_att_mat.size(-1)))\n",
        "mask = v[0, 1:].reshape(grid_size, grid_size).detach().numpy()\n",
        "mask = cv2.resize(mask / mask.max(), im.size)[..., np.newaxis]\n",
        "result = mask.reshape(36, 36)#.astype(\"uint8\")"
      ],
      "id": "referenced-conditioning",
      "execution_count": 92,
      "outputs": []
    },
    {
      "cell_type": "code",
      "metadata": {
        "colab": {
          "base_uri": "https://localhost:8080/",
          "height": 637
        },
        "id": "Dn_ZUveaBB_Y",
        "outputId": "79025421-e732-4fc9-8fcc-f0f5bc706f94"
      },
      "source": [
        "fig, (ax1, ax2) = plt.subplots(ncols=2, figsize=(16, 16))\n",
        "\n",
        "ax1.set_title('Original')\n",
        "ax2.set_title('Attention Map')\n",
        "k1 = ax1.imshow(im)\n",
        "k = ax2.imshow(result)\n",
        "plt.colorbar(k, orientation='horizontal')"
      ],
      "id": "Dn_ZUveaBB_Y",
      "execution_count": 93,
      "outputs": [
        {
          "output_type": "execute_result",
          "data": {
            "text/plain": [
              "<matplotlib.colorbar.Colorbar at 0x7ff916944f10>"
            ]
          },
          "metadata": {
            "tags": []
          },
          "execution_count": 93
        },
        {
          "output_type": "display_data",
          "data": {
            "image/png": "[encoded data removed]",
            "text/plain": [
              "<Figure size 1152x1152 with 3 Axes>"
            ]
          },
          "metadata": {
            "tags": [],
            "needs_background": "light"
          }
        }
      ]
    },
    {
      "cell_type": "code",
      "metadata": {
        "id": "_Bgfk3L03mU_"
      },
      "source": [
        ""
      ],
      "id": "_Bgfk3L03mU_",
      "execution_count": null,
      "outputs": []
    }
  ]
}